{
 "cells": [
  {
   "cell_type": "code",
   "execution_count": 6,
   "metadata": {},
   "outputs": [],
   "source": [
    "# Colby Bailey\n",
    "# data science summer 2023\n",
    "# UTSA Student ID: nib667"
   ]
  },
  {
   "cell_type": "code",
   "execution_count": 7,
   "metadata": {},
   "outputs": [],
   "source": [
    "import zipfile\n",
    "import numpy as np\n",
    "import matplotlib.pyplot as plt\n",
    "import seaborn"
   ]
  },
  {
   "cell_type": "code",
   "execution_count": null,
   "metadata": {},
   "outputs": [],
   "source": [
    "%matplotlib inline"
   ]
  },
  {
   "cell_type": "code",
   "execution_count": 8,
   "metadata": {},
   "outputs": [],
   "source": [
    "# INSTRUCTOR CODE\n",
    "def parsefile(filename):\n",
    "    return np.genfromtxt(filename,\n",
    "                         delimiter = dly_delimiter,\n",
    "                         usecols = dly_usecols,\n",
    "                         dtype = dly_dtype,\n",
    "                         names = dly_names)"
   ]
  },
  {
   "cell_type": "code",
   "execution_count": 9,
   "metadata": {},
   "outputs": [],
   "source": [
    "# INSTRUCTOR CODE\n",
    "def unroll(record):\n",
    "    startdate = np.datetime64('{}-{:02}'.format(record['year'],record['month']))\n",
    "    dates = np.arange(startdate,startdate + np.timedelta64(1,'M'),np.timedelta64(1,'D'))\n",
    "    \n",
    "    rows = [(date,record[str(i+1)]/10) for i,date in enumerate(dates)]\n",
    "    \n",
    "    return np.array(rows,dtype=[('date','M8[D]'),('value','d')])"
   ]
  },
  {
   "cell_type": "code",
   "execution_count": 10,
   "metadata": {},
   "outputs": [],
   "source": [
    "# INSTRUCTOR CODE\n",
    "def getobs(filename,obs):\n",
    "    data = np.concatenate([unroll(row) for row in parsefile(filename) if row[2] == obs])\n",
    "    \n",
    "    data['value'][data['value'] == -999.9] = np.nan\n",
    "    \n",
    "    return data"
   ]
  },
  {
   "cell_type": "code",
   "execution_count": 11,
   "metadata": {},
   "outputs": [],
   "source": [
    "# INSTRUCTOR CODE\n",
    "def fillnans(data):\n",
    "    dates_float = data['date'].astype(np.float64)\n",
    "    \n",
    "    nan = np.isnan(data['value'])\n",
    "    \n",
    "    data['value'][nan] = np.interp(dates_float[nan],dates_float[~nan],data['value'][~nan])"
   ]
  },
  {
   "cell_type": "code",
   "execution_count": 12,
   "metadata": {},
   "outputs": [],
   "source": [
    "# INSTRUCTOR CODE\n",
    "def selectyear(data,year):\n",
    "    start = np.datetime64('{}'.format(year))\n",
    "    end = start + np.timedelta64(1,'Y')\n",
    "    \n",
    "    return data[(data['date'] >= start) & (data['date'] < end)]['value']"
   ]
  },
  {
   "cell_type": "code",
   "execution_count": null,
   "metadata": {},
   "outputs": [],
   "source": [
    "# TASK 1\n",
    "zip_path = 'weather.zip'\n",
    "extract_path = 'weather'\n",
    "with zipfile.ZipFile( zip_path, 'r' ) as zip_ref:\n",
    "    zip_ref.extractall( extract_path )"
   ]
  },
  {
   "cell_type": "code",
   "execution_count": 14,
   "metadata": {},
   "outputs": [
    {
     "name": "stdout",
     "output_type": "stream",
     "text": [
      "total 42336\n",
      "-rw-r--r--@ 1 bagoferasers  staff  1711530 Jun 27 12:57 RSM00030710.dly\n",
      "-rw-r--r--@ 1 bagoferasers  staff  4165020 Jun 27 12:57 USW00014922.dly\n",
      "-rw-r--r--@ 1 bagoferasers  staff  3692790 Jun 27 12:57 USW00022536.dly\n",
      "-rw-r--r--@ 1 bagoferasers  staff  3502710 Jun 27 12:57 USW00023188.dly\n",
      "-rw-r--r--@ 1 bagoferasers  staff    44303 Jun 27 12:57 project2.ipynb\n",
      "-rw-r--r--@ 1 bagoferasers  staff    24088 Jun 27 12:57 readme.txt\n",
      "-rw-r--r--@ 1 bagoferasers  staff  8523546 Jun 27 12:57 stations.txt\n",
      "-rw-r--r--@ 1 bagoferasers  staff      576 Jun 27 12:57 weather.README\n"
     ]
    }
   ],
   "source": [
    "ls -l weather"
   ]
  },
  {
   "cell_type": "code",
   "execution_count": 15,
   "metadata": {},
   "outputs": [
    {
     "ename": "NameError",
     "evalue": "name 'dly_delimiter' is not defined",
     "output_type": "error",
     "traceback": [
      "\u001b[0;31m---------------------------------------------------------------------------\u001b[0m",
      "\u001b[0;31mNameError\u001b[0m                                 Traceback (most recent call last)",
      "Cell \u001b[0;32mIn[15], line 4\u001b[0m\n\u001b[1;32m      2\u001b[0m filename \u001b[39m=\u001b[39m \u001b[39m'\u001b[39m\u001b[39mUSW00014922.dly\u001b[39m\u001b[39m'\u001b[39m\n\u001b[1;32m      3\u001b[0m obs \u001b[39m=\u001b[39m \u001b[39m'\u001b[39m\u001b[39mTMAX\u001b[39m\u001b[39m'\u001b[39m\n\u001b[0;32m----> 4\u001b[0m data \u001b[39m=\u001b[39m parsefile(filename)\n\u001b[1;32m      5\u001b[0m unroll(data)\n\u001b[1;32m      6\u001b[0m tmax_series \u001b[39m=\u001b[39m getobs(filename, obs)\n",
      "Cell \u001b[0;32mIn[8], line 4\u001b[0m, in \u001b[0;36mparsefile\u001b[0;34m(filename)\u001b[0m\n\u001b[1;32m      2\u001b[0m \u001b[39mdef\u001b[39;00m \u001b[39mparsefile\u001b[39m(filename):\n\u001b[1;32m      3\u001b[0m     \u001b[39mreturn\u001b[39;00m np\u001b[39m.\u001b[39mgenfromtxt(filename,\n\u001b[0;32m----> 4\u001b[0m                          delimiter \u001b[39m=\u001b[39m dly_delimiter,\n\u001b[1;32m      5\u001b[0m                          usecols \u001b[39m=\u001b[39m dly_usecols,\n\u001b[1;32m      6\u001b[0m                          dtype \u001b[39m=\u001b[39m dly_dtype,\n\u001b[1;32m      7\u001b[0m                          names \u001b[39m=\u001b[39m dly_names)\n",
      "\u001b[0;31mNameError\u001b[0m: name 'dly_delimiter' is not defined"
     ]
    }
   ],
   "source": [
    "# TASK 2\n",
    "filename = 'USW00014922.dly'\n",
    "obs = 'TMAX'\n",
    "data = parsefile(filename)\n",
    "unroll(data)\n",
    "tmax_series = getobs(filename, obs)\n",
    "year_range = range(1940, 2015)\n",
    "tmax_selected = selectyear(tmax_series, year_range)\n",
    "tmax_filled = fillnans(tmax_selected)\n",
    "mean_tmax = np.mean(tmax_filled)\n",
    "plt.plot(tmax_filled)\n",
    "plt.title('TMAX in Minneapolis (1940-2014)')\n",
    "plt.xlabel('Year')\n",
    "plt.ylabel('TMAX (°F)')\n",
    "plt.show()"
   ]
  }
 ],
 "metadata": {
  "kernelspec": {
   "display_name": "Python 3",
   "language": "python",
   "name": "python3"
  },
  "language_info": {
   "codemirror_mode": {
    "name": "ipython",
    "version": 3
   },
   "file_extension": ".py",
   "mimetype": "text/x-python",
   "name": "python",
   "nbconvert_exporter": "python",
   "pygments_lexer": "ipython3",
   "version": "3.10.10"
  },
  "orig_nbformat": 4
 },
 "nbformat": 4,
 "nbformat_minor": 2
}
