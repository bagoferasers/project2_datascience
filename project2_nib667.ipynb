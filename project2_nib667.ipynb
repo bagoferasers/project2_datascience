{
 "cells": [
  {
   "cell_type": "code",
   "execution_count": 189,
   "metadata": {},
   "outputs": [],
   "source": [
    "# Colby Bailey\n",
    "# data science summer 2023\n",
    "# UTSA Student ID: nib667"
   ]
  },
  {
   "cell_type": "code",
   "execution_count": 190,
   "metadata": {},
   "outputs": [],
   "source": [
    "import zipfile\n",
    "import numpy as np\n",
    "import matplotlib.pyplot as plt\n",
    "import seaborn\n",
    "import datetime"
   ]
  },
  {
   "cell_type": "code",
   "execution_count": 191,
   "metadata": {},
   "outputs": [],
   "source": [
    "%matplotlib inline"
   ]
  },
  {
   "cell_type": "code",
   "execution_count": 192,
   "metadata": {},
   "outputs": [],
   "source": [
    "dly_delimiter = [11,4,2,4] + [5,1,1,1] * 31\n",
    "dly_usecols = [1,2,3] + [4*i for i in range(1,32)]\n",
    "dly_dtype = [np.int32,np.int32,(np.str_,4)] + [np.int32] * 31\n",
    "dly_names = ['year','month','obs'] + [str(day) for day in range(1,31+1)]"
   ]
  },
  {
   "cell_type": "code",
   "execution_count": 193,
   "metadata": {},
   "outputs": [],
   "source": [
    "# INSTRUCTOR CODE\n",
    "def parsefile(filename):\n",
    "    return np.genfromtxt(filename,\n",
    "                         delimiter = dly_delimiter,\n",
    "                         usecols = dly_usecols,\n",
    "                         dtype = dly_dtype,\n",
    "                         names = dly_names)"
   ]
  },
  {
   "cell_type": "code",
   "execution_count": 194,
   "metadata": {},
   "outputs": [],
   "source": [
    "# INSTRUCTOR CODE\n",
    "def unroll(record):\n",
    "    startdate = np.datetime64('{}-{:02}'.format(record['year'],record['month']))\n",
    "    dates = np.arange(startdate,startdate + np.timedelta64(1,'M'),np.timedelta64(1,'D'))\n",
    "    \n",
    "    rows = [(date,record[str(i+1)]/10) for i,date in enumerate(dates)]\n",
    "    \n",
    "    return np.array(rows,dtype=[('date','M8[D]'),('value','d')])"
   ]
  },
  {
   "cell_type": "code",
   "execution_count": 195,
   "metadata": {},
   "outputs": [],
   "source": [
    "# INSTRUCTOR CODE\n",
    "def getobs(filename,obs):\n",
    "    data = np.concatenate([unroll(row) for row in parsefile(filename) if row[2] == obs])\n",
    "    \n",
    "    data['value'][data['value'] == -999.9] = np.nan\n",
    "    \n",
    "    return data"
   ]
  },
  {
   "cell_type": "code",
   "execution_count": 196,
   "metadata": {},
   "outputs": [],
   "source": [
    "# INSTRUCTOR CODE\n",
    "def fillnans(data):\n",
    "    dates_float = data['date'].astype(np.float64)\n",
    "    \n",
    "    nan = np.isnan(data['value'])\n",
    "    \n",
    "    data['value'][nan] = np.interp(dates_float[nan],dates_float[~nan],data['value'][~nan])"
   ]
  },
  {
   "cell_type": "code",
   "execution_count": 197,
   "metadata": {},
   "outputs": [],
   "source": [
    "# INSTRUCTOR CODE\n",
    "def selectyear(data,year):\n",
    "    start = np.datetime64('{}'.format(year))\n",
    "    end = start + np.timedelta64(1,'Y')\n",
    "    \n",
    "    return data[(data['date'] >= start) & (data['date'] < end)]['value']"
   ]
  },
  {
   "cell_type": "code",
   "execution_count": 198,
   "metadata": {},
   "outputs": [],
   "source": [
    "# TASK 1\n",
    "zip_path = 'weather.zip'\n",
    "with zipfile.ZipFile( zip_path, 'r' ) as zip_ref:\n",
    "    zip_ref.extractall( )"
   ]
  },
  {
   "cell_type": "code",
   "execution_count": 199,
   "metadata": {},
   "outputs": [
    {
     "name": "stdout",
     "output_type": "stream",
     "text": [
      "total 47888\n",
      "-rw-r--r--  1 bagoferasers  staff  1711530 Jun 27 16:02 RSM00030710.dly\n",
      "-rw-r--r--  1 bagoferasers  staff  4165020 Jun 27 16:02 USW00014922.dly\n",
      "-rw-r--r--  1 bagoferasers  staff  3692790 Jun 27 16:02 USW00022536.dly\n",
      "-rw-r--r--  1 bagoferasers  staff  3502710 Jun 27 16:02 USW00023188.dly\n",
      "-rw-r--r--@ 1 bagoferasers  staff    44303 Jun 27 16:02 project2.ipynb\n",
      "-rw-r--r--  1 bagoferasers  staff    24088 Jun 27 16:02 readme.txt\n",
      "-rw-r--r--  1 bagoferasers  staff  8523546 Jun 27 16:02 stations.txt\n",
      "-rw-r--r--  1 bagoferasers  staff      576 Jun 27 16:02 weather.README\n"
     ]
    }
   ],
   "source": [
    "ls -l weather"
   ]
  },
  {
   "cell_type": "code",
   "execution_count": 200,
   "metadata": {},
   "outputs": [
    {
     "data": {
      "text/plain": [
       "array([(1938, 4, 'TMAX', -9999, -9999, -9999, -9999, -9999, -9999, -9999, -9999, 106,   189,   172,   217,   256,   194,   117,   133,   228,   217,   172,   144,    89,   144,  94,   111,   156,   267,   256,   156,   144,   222, -9999),\n",
       "       (1938, 4, 'TMIN', -9999, -9999, -9999, -9999, -9999, -9999, -9999, -9999, -17,    11,    61,    28,    78,    78,    72,   106,   106,    72,    11,    -6,    17,    -6,  39,    56,    44,   117,   156,    39,    17,    44, -9999),\n",
       "       (1938, 4, 'PRCP', -9999, -9999, -9999, -9999, -9999, -9999, -9999, -9999,   0,     0,     0,     0,     0,   267,    64,   193,    58,     0,     0,     3,    25,     0, 119,    10,     0,     0,    36,    56,     0,     0, -9999),\n",
       "       ...,\n",
       "       (2015, 9, 'WT01',     1,     1,     1,     1,     1,     1, -9999,     1,   1,     1, -9999, -9999, -9999, -9999, -9999, -9999,     1, -9999, -9999, -9999, -9999,     1,   1,     1,     1,     1, -9999, -9999, -9999, -9999, -9999),\n",
       "       (2015, 9, 'WT03', -9999,     1, -9999, -9999, -9999,     1, -9999,     1,   1, -9999, -9999, -9999, -9999,     1, -9999,     1,     1, -9999, -9999,     1, -9999, -9999,   1, -9999, -9999, -9999, -9999, -9999, -9999, -9999, -9999),\n",
       "       (2015, 9, 'WT08',     1, -9999,     1, -9999,     1, -9999, -9999, -9999,   1, -9999, -9999, -9999, -9999, -9999, -9999, -9999, -9999, -9999, -9999, -9999, -9999,     1,   1,     1,     1,     1, -9999, -9999, -9999, -9999, -9999)],\n",
       "      dtype=[('year', '<i4'), ('month', '<i4'), ('obs', '<U4'), ('1', '<i4'), ('2', '<i4'), ('3', '<i4'), ('4', '<i4'), ('5', '<i4'), ('6', '<i4'), ('7', '<i4'), ('8', '<i4'), ('9', '<i4'), ('10', '<i4'), ('11', '<i4'), ('12', '<i4'), ('13', '<i4'), ('14', '<i4'), ('15', '<i4'), ('16', '<i4'), ('17', '<i4'), ('18', '<i4'), ('19', '<i4'), ('20', '<i4'), ('21', '<i4'), ('22', '<i4'), ('23', '<i4'), ('24', '<i4'), ('25', '<i4'), ('26', '<i4'), ('27', '<i4'), ('28', '<i4'), ('29', '<i4'), ('30', '<i4'), ('31', '<i4')])"
      ]
     },
     "execution_count": 200,
     "metadata": {},
     "output_type": "execute_result"
    }
   ],
   "source": [
    "# TASK 2\n",
    "filename = 'weather/USW00014922.dly'\n",
    "obs = 'TMAX'\n",
    "tmax_series = getobs(filename,obs)\n",
    "minneapolis = parsefile(filename)\n",
    "minneapolis"
   ]
  },
  {
   "cell_type": "code",
   "execution_count": 201,
   "metadata": {},
   "outputs": [
    {
     "data": {
      "text/plain": [
       "array([('1938-04-01', -999.9), ('1938-04-02', -999.9),\n",
       "       ('1938-04-03', -999.9), ('1938-04-04', -999.9),\n",
       "       ('1938-04-05', -999.9), ('1938-04-06', -999.9),\n",
       "       ('1938-04-07', -999.9), ('1938-04-08', -999.9),\n",
       "       ('1938-04-09',   10.6), ('1938-04-10',   18.9),\n",
       "       ('1938-04-11',   17.2), ('1938-04-12',   21.7),\n",
       "       ('1938-04-13',   25.6), ('1938-04-14',   19.4),\n",
       "       ('1938-04-15',   11.7), ('1938-04-16',   13.3),\n",
       "       ('1938-04-17',   22.8), ('1938-04-18',   21.7),\n",
       "       ('1938-04-19',   17.2), ('1938-04-20',   14.4),\n",
       "       ('1938-04-21',    8.9), ('1938-04-22',   14.4),\n",
       "       ('1938-04-23',    9.4), ('1938-04-24',   11.1),\n",
       "       ('1938-04-25',   15.6), ('1938-04-26',   26.7),\n",
       "       ('1938-04-27',   25.6), ('1938-04-28',   15.6),\n",
       "       ('1938-04-29',   14.4), ('1938-04-30',   22.2)],\n",
       "      dtype=[('date', '<M8[D]'), ('value', '<f8')])"
      ]
     },
     "execution_count": 201,
     "metadata": {},
     "output_type": "execute_result"
    }
   ],
   "source": [
    "unroll(minneapolis[0])"
   ]
  },
  {
   "cell_type": "code",
   "execution_count": 202,
   "metadata": {},
   "outputs": [],
   "source": [
    "minneapolis_tmax = getobs(filename, obs)"
   ]
  },
  {
   "cell_type": "code",
   "execution_count": 203,
   "metadata": {},
   "outputs": [
    {
     "data": {
      "text/plain": [
       "<matplotlib.legend.Legend at 0x1694ca560>"
      ]
     },
     "execution_count": 203,
     "metadata": {},
     "output_type": "execute_result"
    },
    {
     "data": {
      "image/png": "[encoded data removed]",
      "text/plain": [
       "<Figure size 640x480 with 1 Axes>"
      ]
     },
     "metadata": {},
     "output_type": "display_data"
    }
   ],
   "source": [
    "plt.plot(minneapolis_tmax['date'],minneapolis_tmax['value'], label=\"TMAX\")\n",
    "plt.legend(loc=\"best\")"
   ]
  },
  {
   "cell_type": "code",
   "execution_count": 204,
   "metadata": {},
   "outputs": [],
   "source": [
    "fillnans(minneapolis_tmax)"
   ]
  },
  {
   "cell_type": "code",
   "execution_count": 205,
   "metadata": {},
   "outputs": [
    {
     "data": {
      "text/plain": [
       "12.74308121666019"
      ]
     },
     "execution_count": 205,
     "metadata": {},
     "output_type": "execute_result"
    }
   ],
   "source": [
    "np.mean(minneapolis_tmax['value'])"
   ]
  },
  {
   "cell_type": "code",
   "execution_count": 206,
   "metadata": {},
   "outputs": [
    {
     "ename": "ValueError",
     "evalue": "Error parsing datetime string \"range(1940, 2015)\" at position 0",
     "output_type": "error",
     "traceback": [
      "\u001b[0;31m---------------------------------------------------------------------------\u001b[0m",
      "\u001b[0;31mValueError\u001b[0m                                Traceback (most recent call last)",
      "Cell \u001b[0;32mIn[206], line 2\u001b[0m\n\u001b[1;32m      1\u001b[0m year_range \u001b[39m=\u001b[39m \u001b[39mrange\u001b[39m(\u001b[39m1940\u001b[39m,\u001b[39m2015\u001b[39m)\n\u001b[0;32m----> 2\u001b[0m tmax_filled \u001b[39m=\u001b[39m selectyear(minneapolis_tmax,year_range)\n",
      "Cell \u001b[0;32mIn[197], line 3\u001b[0m, in \u001b[0;36mselectyear\u001b[0;34m(data, year)\u001b[0m\n\u001b[1;32m      2\u001b[0m \u001b[39mdef\u001b[39;00m \u001b[39mselectyear\u001b[39m(data,year):\n\u001b[0;32m----> 3\u001b[0m     start \u001b[39m=\u001b[39m np\u001b[39m.\u001b[39;49mdatetime64(\u001b[39m'\u001b[39;49m\u001b[39m{}\u001b[39;49;00m\u001b[39m'\u001b[39;49m\u001b[39m.\u001b[39;49mformat(year))\n\u001b[1;32m      4\u001b[0m     end \u001b[39m=\u001b[39m start \u001b[39m+\u001b[39m np\u001b[39m.\u001b[39mtimedelta64(\u001b[39m1\u001b[39m,\u001b[39m'\u001b[39m\u001b[39mY\u001b[39m\u001b[39m'\u001b[39m)\n\u001b[1;32m      6\u001b[0m     \u001b[39mreturn\u001b[39;00m data[(data[\u001b[39m'\u001b[39m\u001b[39mdate\u001b[39m\u001b[39m'\u001b[39m] \u001b[39m>\u001b[39m\u001b[39m=\u001b[39m start) \u001b[39m&\u001b[39m (data[\u001b[39m'\u001b[39m\u001b[39mdate\u001b[39m\u001b[39m'\u001b[39m] \u001b[39m<\u001b[39m end)][\u001b[39m'\u001b[39m\u001b[39mvalue\u001b[39m\u001b[39m'\u001b[39m]\n",
      "\u001b[0;31mValueError\u001b[0m: Error parsing datetime string \"range(1940, 2015)\" at position 0"
     ]
    }
   ],
   "source": [
    "year_range = range(1940,2015)\n",
    "tmax_filled = selectyear(minneapolis_tmax,year_range)"
   ]
  }
 ],
 "metadata": {
  "kernelspec": {
   "display_name": "Python 3",
   "language": "python",
   "name": "python3"
  },
  "language_info": {
   "codemirror_mode": {
    "name": "ipython",
    "version": 3
   },
   "file_extension": ".py",
   "mimetype": "text/x-python",
   "name": "python",
   "nbconvert_exporter": "python",
   "pygments_lexer": "ipython3",
   "version": "3.10.10"
  },
  "orig_nbformat": 4
 },
 "nbformat": 4,
 "nbformat_minor": 2
}
