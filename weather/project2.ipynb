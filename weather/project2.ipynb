{
 "cells": [
  {
   "cell_type": "code",
   "execution_count": 2,
   "metadata": {},
   "outputs": [],
   "source": [
    "import numpy as np\n",
    "import matplotlib.pyplot as pp\n",
    "import seaborn"
   ]
  },
  {
   "cell_type": "code",
   "execution_count": 3,
   "metadata": {},
   "outputs": [],
   "source": [
    "%matplotlib inline"
   ]
  },
  {
   "cell_type": "code",
   "execution_count": 4,
   "metadata": {},
   "outputs": [
    {
     "data": {
      "text/plain": [
       "['USW00014922193804TMAX-9999   -9999   -9999   -9999   -9999   -9999   -9999   -9999     106  0  189  0  172  0  217  0  256  0  194  0  117  0  133  0  228  0  217  0  172  0  144  0   89  0  144  0   94  0  111  0  156  0  267  0  256  0  156  0  144  0  222  0-9999   \\n',\n",
       " 'USW00014922193804TMIN-9999   -9999   -9999   -9999   -9999   -9999   -9999   -9999     -17  0   11  0   61  0   28  0   78  0   78  0   72  0  106  0  106  0   72  0   11  0   -6  0   17  0   -6  0   39  0   56  0   44  0  117  0  156  0   39  0   17  0   44  0-9999   \\n',\n",
       " 'USW00014922193804PRCP-9999   -9999   -9999   -9999   -9999   -9999   -9999   -9999       0  0    0  0    0  0    0  0    0  0  267  0   64  0  193  0   58  0    0  0    0T 0    3  0   25  0    0  0  119  0   10  0    0T 0    0  0   36  0   56  0    0  0    0  0-9999   \\n',\n",
       " 'USW00014922193804SNOW-9999   -9999   -9999   -9999   -9999   -9999   -9999   -9999       0  0    0  0    0  0    0  0    0  0    0  0    0  0    0  0    0  0    0  0    0  0    0  0    0  0    0  0    0  0    0  0    0  0    0  0    0  0    0  0    0  0    0  0-9999   \\n',\n",
       " 'USW00014922193804SNWD-9999   -9999   -9999   -9999   -9999   -9999   -9999   -9999       0  0    0  0    0  0    0  0    0  0    0  0    0  0    0  0    0  0    0  0    0  0    0  0    0  0    0  0    0  0    0  0    0  0    0  0    0  0    0  0    0  0    0  0-9999   \\n',\n",
       " 'USW00014922193805TMAX  278  0  294  0  278  0  194  0  128  0   72  0   61  0   56  0  167  0  178  0  150  0  183  0  156  0  178  0  189  0  217  0  133  0  139  0  117  0  172  0  206  0  222  0  150  0  144  0  194  0  239  0  189  0  244  0  278  0  294  0  244  0\\n',\n",
       " 'USW00014922193805TMIN  144  0  167  0  144  0  111  0   22  0   22  0   17  0   17  0   50  0   61  0   28  0   28  0   72  0   72  0   78  0   61  0  111  0  100  0   89  0   78  0  100  0   89  0   83  0   44  0   83  0  117  0  133  0  150  0  144  0  172  0  178  0\\n',\n",
       " 'USW00014922193805PRCP    0T 0    3  0   18  0  221  0  246  0    3  0   99  0  307  0   15  0    5  0    0  0    0  0   56  0   10  0    3  0    3  0  297  0  254  0   79  0    0T 0    0  0    0T 0    0  0    3  0    0  0   33  0   76  0    0T 0    0T 0    0  0   41  0\\n',\n",
       " 'USW00014922193805SNOW    0  0    0  0    0  0    0  0    0  0    0  0    0T 0    0  0    0  0    0  0    0  0    0  0    0  0    0  0    0  0    0  0    0  0    0  0    0  0    0  0    0  0    0  0    0  0    0  0    0  0    0  0    0  0    0  0    0  0    0  0    0  0\\n',\n",
       " 'USW00014922193805SNWD    0  0    0  0    0  0    0  0    0  0    0  0    0  0    0  0    0  0    0  0    0  0    0  0    0  0    0  0    0  0    0  0    0  0    0  0    0  0    0  0    0  0    0  0    0  0    0  0    0  0    0  0    0  0    0  0    0  0    0  0    0  0\\n']"
      ]
     },
     "execution_count": 4,
     "metadata": {},
     "output_type": "execute_result"
    }
   ],
   "source": [
    "open('USW00014922.dly','r').readlines()[:10]"
   ]
  },
  {
   "cell_type": "code",
   "execution_count": 5,
   "metadata": {},
   "outputs": [
    {
     "data": {
      "text/plain": [
       "['------------------------------\\n',\n",
       " 'Variable   Columns   Type\\n',\n",
       " '------------------------------\\n',\n",
       " 'ID            1-11   Character\\n',\n",
       " 'YEAR         12-15   Integer\\n',\n",
       " 'MONTH        16-17   Integer\\n',\n",
       " 'ELEMENT      18-21   Character\\n',\n",
       " 'VALUE1       22-26   Integer\\n',\n",
       " 'MFLAG1       27-27   Character\\n',\n",
       " 'QFLAG1       28-28   Character\\n',\n",
       " 'SFLAG1       29-29   Character\\n',\n",
       " 'VALUE2       30-34   Integer\\n',\n",
       " 'MFLAG2       35-35   Character\\n',\n",
       " 'QFLAG2       36-36   Character\\n',\n",
       " 'SFLAG2       37-37   Character\\n',\n",
       " '  .           .          .\\n',\n",
       " '  .           .          .\\n',\n",
       " '  .           .          .\\n',\n",
       " 'VALUE31    262-266   Integer\\n',\n",
       " 'MFLAG31    267-267   Character\\n',\n",
       " 'QFLAG31    268-268   Character\\n',\n",
       " 'SFLAG31    269-269   Character\\n',\n",
       " '------------------------------\\n']"
      ]
     },
     "execution_count": 5,
     "metadata": {},
     "output_type": "execute_result"
    }
   ],
   "source": [
    "open('readme.txt','r').readlines()[98:121]"
   ]
  },
  {
   "cell_type": "code",
   "execution_count": 6,
   "metadata": {},
   "outputs": [],
   "source": [
    "def parsefile(filename):\n",
    "    return np.genfromtxt(filename,\n",
    "                         delimiter = dly_delimiter,\n",
    "                         usecols = dly_usecols,\n",
    "                         dtype = dly_dtype,\n",
    "                         names = dly_names)"
   ]
  },
  {
   "cell_type": "code",
   "execution_count": 7,
   "metadata": {},
   "outputs": [],
   "source": [
    "dly_delimiter = [11,4,2,4] + [5,1,1,1] * 31\n",
    "dly_usecols = [1,2,3] + [4*i for i in range(1,32)]\n",
    "dly_dtype = [np.int32,np.int32,(np.str_,4)] + [np.int32] * 31\n",
    "dly_names = ['year','month','obs'] + [str(day) for day in range(1,31+1)]"
   ]
  },
  {
   "cell_type": "code",
   "execution_count": 8,
   "metadata": {},
   "outputs": [],
   "source": [
    "minneapolis = parsefile('USW00014922.dly')"
   ]
  },
  {
   "cell_type": "code",
   "execution_count": 9,
   "metadata": {},
   "outputs": [
    {
     "data": {
      "text/plain": [
       "array([(1938, 4, 'TMAX', -9999, -9999, -9999, -9999, -9999, -9999, -9999, -9999, 106,   189,   172,   217,   256,   194,   117,   133,   228,   217,   172,   144,    89,   144,  94,   111,   156,   267,   256,   156,   144,   222, -9999),\n",
       "       (1938, 4, 'TMIN', -9999, -9999, -9999, -9999, -9999, -9999, -9999, -9999, -17,    11,    61,    28,    78,    78,    72,   106,   106,    72,    11,    -6,    17,    -6,  39,    56,    44,   117,   156,    39,    17,    44, -9999),\n",
       "       (1938, 4, 'PRCP', -9999, -9999, -9999, -9999, -9999, -9999, -9999, -9999,   0,     0,     0,     0,     0,   267,    64,   193,    58,     0,     0,     3,    25,     0, 119,    10,     0,     0,    36,    56,     0,     0, -9999),\n",
       "       ...,\n",
       "       (2015, 9, 'WT01',     1,     1,     1,     1,     1,     1, -9999,     1,   1,     1, -9999, -9999, -9999, -9999, -9999, -9999,     1, -9999, -9999, -9999, -9999,     1,   1,     1,     1,     1, -9999, -9999, -9999, -9999, -9999),\n",
       "       (2015, 9, 'WT03', -9999,     1, -9999, -9999, -9999,     1, -9999,     1,   1, -9999, -9999, -9999, -9999,     1, -9999,     1,     1, -9999, -9999,     1, -9999, -9999,   1, -9999, -9999, -9999, -9999, -9999, -9999, -9999, -9999),\n",
       "       (2015, 9, 'WT08',     1, -9999,     1, -9999,     1, -9999, -9999, -9999,   1, -9999, -9999, -9999, -9999, -9999, -9999, -9999, -9999, -9999, -9999, -9999, -9999,     1,   1,     1,     1,     1, -9999, -9999, -9999, -9999, -9999)],\n",
       "      dtype=[('year', '<i4'), ('month', '<i4'), ('obs', '<U4'), ('1', '<i4'), ('2', '<i4'), ('3', '<i4'), ('4', '<i4'), ('5', '<i4'), ('6', '<i4'), ('7', '<i4'), ('8', '<i4'), ('9', '<i4'), ('10', '<i4'), ('11', '<i4'), ('12', '<i4'), ('13', '<i4'), ('14', '<i4'), ('15', '<i4'), ('16', '<i4'), ('17', '<i4'), ('18', '<i4'), ('19', '<i4'), ('20', '<i4'), ('21', '<i4'), ('22', '<i4'), ('23', '<i4'), ('24', '<i4'), ('25', '<i4'), ('26', '<i4'), ('27', '<i4'), ('28', '<i4'), ('29', '<i4'), ('30', '<i4'), ('31', '<i4')])"
      ]
     },
     "execution_count": 9,
     "metadata": {},
     "output_type": "execute_result"
    }
   ],
   "source": [
    "minneapolis"
   ]
  },
  {
   "cell_type": "code",
   "execution_count": 10,
   "metadata": {},
   "outputs": [],
   "source": [
    "def unroll(record):\n",
    "    startdate = np.datetime64('{}-{:02}'.format(record['year'],record['month']))\n",
    "    dates = np.arange(startdate,startdate + np.timedelta64(1,'M'),np.timedelta64(1,'D'))\n",
    "    \n",
    "    rows = [(date,record[str(i+1)]/10) for i,date in enumerate(dates)]\n",
    "    \n",
    "    return np.array(rows,dtype=[('date','M8[D]'),('value','d')])"
   ]
  },
  {
   "cell_type": "code",
   "execution_count": 11,
   "metadata": {},
   "outputs": [
    {
     "data": {
      "text/plain": [
       "array([('1938-04-01', -999.9), ('1938-04-02', -999.9),\n",
       "       ('1938-04-03', -999.9), ('1938-04-04', -999.9),\n",
       "       ('1938-04-05', -999.9), ('1938-04-06', -999.9),\n",
       "       ('1938-04-07', -999.9), ('1938-04-08', -999.9),\n",
       "       ('1938-04-09',   10.6), ('1938-04-10',   18.9),\n",
       "       ('1938-04-11',   17.2), ('1938-04-12',   21.7),\n",
       "       ('1938-04-13',   25.6), ('1938-04-14',   19.4),\n",
       "       ('1938-04-15',   11.7), ('1938-04-16',   13.3),\n",
       "       ('1938-04-17',   22.8), ('1938-04-18',   21.7),\n",
       "       ('1938-04-19',   17.2), ('1938-04-20',   14.4),\n",
       "       ('1938-04-21',    8.9), ('1938-04-22',   14.4),\n",
       "       ('1938-04-23',    9.4), ('1938-04-24',   11.1),\n",
       "       ('1938-04-25',   15.6), ('1938-04-26',   26.7),\n",
       "       ('1938-04-27',   25.6), ('1938-04-28',   15.6),\n",
       "       ('1938-04-29',   14.4), ('1938-04-30',   22.2)],\n",
       "      dtype=[('date', '<M8[D]'), ('value', '<f8')])"
      ]
     },
     "execution_count": 11,
     "metadata": {},
     "output_type": "execute_result"
    }
   ],
   "source": [
    "unroll(minneapolis[0])"
   ]
  },
  {
   "cell_type": "code",
   "execution_count": 12,
   "metadata": {},
   "outputs": [],
   "source": [
    "def getobs(filename,obs):\n",
    "    data = np.concatenate([unroll(row) for row in parsefile(filename) if row[2] == obs])\n",
    "    \n",
    "    data['value'][data['value'] == -999.9] = np.nan\n",
    "    \n",
    "    return data"
   ]
  },
  {
   "cell_type": "code",
   "execution_count": 13,
   "metadata": {},
   "outputs": [],
   "source": [
    "minneapolis_tmax = getobs('USW00014922.dly','TMAX')"
   ]
  },
  {
   "cell_type": "code",
   "execution_count": 14,
   "metadata": {},
   "outputs": [
    {
     "data": {
      "text/plain": [
       "[<matplotlib.lines.Line2D at 0x10517c7c0>]"
      ]
     },
     "execution_count": 14,
     "metadata": {},
     "output_type": "execute_result"
    },
    {
     "data": {
      "image/png": "[encoded data removed]",
      "text/plain": [
       "<Figure size 640x480 with 1 Axes>"
      ]
     },
     "metadata": {},
     "output_type": "display_data"
    }
   ],
   "source": [
    "pp.plot(minneapolis_tmax['date'],minneapolis_tmax['value'])"
   ]
  },
  {
   "cell_type": "code",
   "execution_count": 15,
   "metadata": {},
   "outputs": [],
   "source": [
    "def fillnans(data):\n",
    "    dates_float = data['date'].astype(np.float64)\n",
    "    \n",
    "    nan = np.isnan(data['value'])\n",
    "    \n",
    "    data['value'][nan] = np.interp(dates_float[nan],dates_float[~nan],data['value'][~nan])"
   ]
  },
  {
   "cell_type": "code",
   "execution_count": 16,
   "metadata": {},
   "outputs": [],
   "source": [
    "fillnans(minneapolis_tmax)"
   ]
  },
  {
   "cell_type": "code",
   "execution_count": 17,
   "metadata": {},
   "outputs": [
    {
     "data": {
      "text/plain": [
       "12.74308121666019"
      ]
     },
     "execution_count": 17,
     "metadata": {},
     "output_type": "execute_result"
    }
   ],
   "source": [
    "np.mean(minneapolis_tmax['value'])"
   ]
  },
  {
   "cell_type": "code",
   "execution_count": 18,
   "metadata": {},
   "outputs": [],
   "source": [
    "def selectyear(data,year):\n",
    "    start = np.datetime64('{}'.format(year))\n",
    "    end = start + np.timedelta64(1,'Y')\n",
    "    \n",
    "    return data[(data['date'] >= start) & (data['date'] < end)]['value']"
   ]
  },
  {
   "cell_type": "code",
   "execution_count": 19,
   "metadata": {},
   "outputs": [
    {
     "data": {
      "text/plain": [
       "array([ -9.4, -12.2, -16.7,  -6.1,  -5. ,   0.6,   1.7,   1.7,  -1.7,\n",
       "         4.4,   2.8,  -5. ,   3.9,   3.3, -10.6,  -2.2,   5.6,   7.2,\n",
       "         8.3,   1.7, -14.4,  -1.1,   8.3,   7.2,   6.7,   9.4,   4.4,\n",
       "        -3.9,  -3.9,  -5.6,  -3.9,  -8.9,  -3.3,  -1.1, -14.4, -13.3,\n",
       "       -10. , -12.2, -11.1,  -8.3,  -3.9,   2.8,   2.8,   7.8,   2.2,\n",
       "         1.1,   0. ,   2.2, -12.2,  -5. ,  -7.2,  -7.8,  -7.2,  -7.2,\n",
       "        -3.9,  -3.3,  -5.6,  -6.7,  -3.9,  -3.9,  -3.3,  -2.8,  -1.7,\n",
       "         1.1,   2.8,   2.8,   2.2,   3.3,   3.9,   3.3,   3.3,   1.7,\n",
       "        -5. ,  -2.2,  -0.6,   1.7,   5.6,   3.9,   1.7,   2.2,  14.4,\n",
       "        13.3,   5.6,  -3.3,   1.1,   5. ,   5. ,   2.2,   1.1,   5. ,\n",
       "         3.9,  12.2,   6.7,   6.1,   7.2,   2.2,   6.7,   3.3,   5.6,\n",
       "         6.7,   3.9,   6.7,  12.2,   7.2,   7.2,   9.4,   6.7,   7.2,\n",
       "        10. ,  14.4,  10. ,   7.8,   7.8,  11.1,  11.7,  21.1,  12.8,\n",
       "        23.9,  20.6,  27.2,  11.7,  18.3,  23.3,  13.9,  13.3,  10.6,\n",
       "        10.6,  10. ,  16.7,  19.4,  25. ,  21.7,  14.4,  17.8,  22.2,\n",
       "        23.3,  20. ,  26.7,  20. ,  18.3,  15.6,  15.6,  16.7,  22.2,\n",
       "        22.2,  16.1,  13.3,   7.8,  11.7,  19.4,  27.2,  17.8,  20.6,\n",
       "        21.1,  25.6,  24.4,  22.2,  18.9,  25. ,  28.3,  25. ,  15.6,\n",
       "        14.4,   9.4,  18.9,  22.2,  23.9,  25.6,  26.1,  25.6,  26.7,\n",
       "        26.7,  26.7,  23.3,  27.2,  24.4,  31.7,  32.8,  30. ,  25. ,\n",
       "        21.7,  23.9,  27.8,  31.1,  27.2,  27.2,  27.8,  28.9,  30. ,\n",
       "        30.6,  31.1,  31.7,  31.7,  30.6,  29.4,  31.1,  34.4,  29.4,\n",
       "        21.7,  26.7,  21.1,  20.6,  24.4,  26.1,  28.9,  24.4,  36.7,\n",
       "        30. ,  33.9,  35.6,  28.9,  26.7,  27.8,  33.9,  32.2,  38.9,\n",
       "        37.8,  31.7,  32.2,  35. ,  35. ,  38.3,  36.1,  32.2,  31.1,\n",
       "        27.2,  32.2,  29.4,  37.8,  31.7,  30.6,  29.4,  36.7,  35. ,\n",
       "        35. ,  26.7,  21.1,  27.2,  28.3,  22.2,  27.8,  28.9,  31.1,\n",
       "        26.7,  32.2,  32.2,  23.9,  31.1,  32.2,  31.1,  33.3,  35. ,\n",
       "        30. ,  22.2,  19.4,  25. ,  18.9,  16.7,  20.6,  27.2,  32.2,\n",
       "        33.3,  25. ,  17.8,  11.1,  21.1,  13.3,  14.4,  17.2,  11.7,\n",
       "        15.6,  11.7,  10. ,  15. ,  17.8,  23.9,  26.1,  29.4,  21.7,\n",
       "        20. ,  19.4,  22.2,  25.6,  25. ,  18.3,  21.1,  30. ,  29.4,\n",
       "        28.3,  27.8,  22.2,  25.6,  26.7,  31.1,  21.1,  13.3,  11.1,\n",
       "        11.1,  12.2,  15. ,  14.4,  11.1,  12.2,  12.2,  10. ,  13.3,\n",
       "        16.1,  12.2,   9.4,   4.4,   3.3,  -2.2,  -1.1,  -3.9,   0. ,\n",
       "        -3.3,   1.7,   3.3,   1.1,   0. ,  -1.7,   1.7,   2.2,   2.8,\n",
       "         4.4,  -3.3,  -3.3,  -5.6,  -6.1,  -7.2,  -6.7,  -8.9, -12.8,\n",
       "         0. ,   2.2,   0. ,  -3.9,  -2.2,  -2.2,   0. ,   0.6,  -6.1,\n",
       "        -7.8,  -5. ,  -9.4,  -2.8,  -1.1,   2.2,  -1.7,  -4.4,  -5.6,\n",
       "        -8.3,  -2.8,  -1.1,   2.8,  -2.2,  -3.9,  -6.1,   0. ,  -4.4,\n",
       "        -1.1,  -8.3,  -2.8,  -2.2, -15. ])"
      ]
     },
     "execution_count": 19,
     "metadata": {},
     "output_type": "execute_result"
    }
   ],
   "source": [
    "selectyear(minneapolis_tmax,1947)"
   ]
  },
  {
   "cell_type": "code",
   "execution_count": null,
   "metadata": {},
   "outputs": [],
   "source": []
  }
 ],
 "metadata": {
  "kernelspec": {
   "display_name": "Python 3",
   "language": "python",
   "name": "python3"
  },
  "language_info": {
   "codemirror_mode": {
    "name": "ipython",
    "version": 3
   },
   "file_extension": ".py",
   "mimetype": "text/x-python",
   "name": "python",
   "nbconvert_exporter": "python",
   "pygments_lexer": "ipython3",
   "version": "3.10.10"
  }
 },
 "nbformat": 4,
 "nbformat_minor": 1
}
